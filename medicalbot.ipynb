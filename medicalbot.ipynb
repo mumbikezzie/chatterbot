{
 "cells": [
  {
   "cell_type": "code",
   "execution_count": 1,
   "id": "26ffd73b",
   "metadata": {},
   "outputs": [
    {
     "name": "stdout",
     "output_type": "stream",
     "text": [
      "Requirement already satisfied: nltk in /home/gaideh/anaconda3/envs/medicbotenv/lib/python3.6/site-packages (3.6.7)\n",
      "Requirement already satisfied: tqdm in /home/gaideh/anaconda3/envs/medicbotenv/lib/python3.6/site-packages (from nltk) (4.64.1)\n",
      "Requirement already satisfied: joblib in /home/gaideh/anaconda3/envs/medicbotenv/lib/python3.6/site-packages (from nltk) (1.1.1)\n",
      "Requirement already satisfied: regex>=2021.8.3 in /home/gaideh/anaconda3/envs/medicbotenv/lib/python3.6/site-packages (from nltk) (2023.8.8)\n",
      "Requirement already satisfied: click in /home/gaideh/anaconda3/envs/medicbotenv/lib/python3.6/site-packages (from nltk) (8.0.4)\n",
      "Requirement already satisfied: importlib-metadata in /home/gaideh/anaconda3/envs/medicbotenv/lib/python3.6/site-packages (from click->nltk) (4.8.3)\n",
      "Requirement already satisfied: zipp>=0.5 in /home/gaideh/anaconda3/envs/medicbotenv/lib/python3.6/site-packages (from importlib-metadata->click->nltk) (3.6.0)\n",
      "Requirement already satisfied: typing-extensions>=3.6.4 in /home/gaideh/anaconda3/envs/medicbotenv/lib/python3.6/site-packages (from importlib-metadata->click->nltk) (4.1.1)\n",
      "Requirement already satisfied: importlib-resources in /home/gaideh/anaconda3/envs/medicbotenv/lib/python3.6/site-packages (from tqdm->nltk) (5.4.0)\n",
      "Note: you may need to restart the kernel to use updated packages.\n"
     ]
    }
   ],
   "source": [
    "pip install nltk\n"
   ]
  },
  {
   "cell_type": "code",
   "execution_count": 2,
   "id": "17726385",
   "metadata": {},
   "outputs": [
    {
     "data": {
      "text/plain": [
       "{'i am': 'you are',\n",
       " 'i was': 'you were',\n",
       " 'i': 'you',\n",
       " \"i'm\": 'you are',\n",
       " \"i'd\": 'you would',\n",
       " \"i've\": 'you have',\n",
       " \"i'll\": 'you will',\n",
       " 'my': 'your',\n",
       " 'you are': 'I am',\n",
       " 'you were': 'I was',\n",
       " \"you've\": 'I have',\n",
       " \"you'll\": 'I will',\n",
       " 'your': 'my',\n",
       " 'yours': 'mine',\n",
       " 'you': 'me',\n",
       " 'me': 'you'}"
      ]
     },
     "execution_count": 2,
     "metadata": {},
     "output_type": "execute_result"
    }
   ],
   "source": [
    "from nltk.chat.util import Chat, reflections\n",
    "reflections"
   ]
  },
  {
   "cell_type": "code",
   "execution_count": 3,
   "id": "7af8c1f5",
   "metadata": {},
   "outputs": [
    {
     "name": "stdout",
     "output_type": "stream",
     "text": [
      "Requirement already satisfied: chatterbot==1.0.0 in /home/gaideh/anaconda3/envs/medicbotenv/lib/python3.6/site-packages (1.0.0)\n",
      "Requirement already satisfied: pymongo<4.0,>=3.3 in /home/gaideh/anaconda3/envs/medicbotenv/lib/python3.6/site-packages (from chatterbot==1.0.0) (3.13.0)\n",
      "Requirement already satisfied: sqlalchemy<1.3,>=1.2 in /home/gaideh/anaconda3/envs/medicbotenv/lib/python3.6/site-packages (from chatterbot==1.0.0) (1.2.19)\n",
      "Requirement already satisfied: chatterbot-corpus<1.3,>=1.2 in /home/gaideh/anaconda3/envs/medicbotenv/lib/python3.6/site-packages (from chatterbot==1.0.0) (1.2.0)\n",
      "Requirement already satisfied: mathparse<0.2,>=0.1 in /home/gaideh/anaconda3/envs/medicbotenv/lib/python3.6/site-packages (from chatterbot==1.0.0) (0.1.2)\n",
      "Requirement already satisfied: nltk<4.0,>=3.2 in /home/gaideh/anaconda3/envs/medicbotenv/lib/python3.6/site-packages (from chatterbot==1.0.0) (3.6.7)\n",
      "Requirement already satisfied: pint>=0.8.1 in /home/gaideh/anaconda3/envs/medicbotenv/lib/python3.6/site-packages (from chatterbot==1.0.0) (0.17)\n",
      "Requirement already satisfied: python-dateutil<2.8,>=2.7 in /home/gaideh/anaconda3/envs/medicbotenv/lib/python3.6/site-packages (from chatterbot==1.0.0) (2.7.5)\n",
      "Requirement already satisfied: PyYAML<4.0,>=3.12 in /home/gaideh/anaconda3/envs/medicbotenv/lib/python3.6/site-packages (from chatterbot-corpus<1.3,>=1.2->chatterbot==1.0.0) (3.13)\n",
      "Requirement already satisfied: tqdm in /home/gaideh/anaconda3/envs/medicbotenv/lib/python3.6/site-packages (from nltk<4.0,>=3.2->chatterbot==1.0.0) (4.64.1)\n",
      "Requirement already satisfied: regex>=2021.8.3 in /home/gaideh/anaconda3/envs/medicbotenv/lib/python3.6/site-packages (from nltk<4.0,>=3.2->chatterbot==1.0.0) (2023.8.8)\n",
      "Requirement already satisfied: joblib in /home/gaideh/anaconda3/envs/medicbotenv/lib/python3.6/site-packages (from nltk<4.0,>=3.2->chatterbot==1.0.0) (1.1.1)\n",
      "Requirement already satisfied: click in /home/gaideh/anaconda3/envs/medicbotenv/lib/python3.6/site-packages (from nltk<4.0,>=3.2->chatterbot==1.0.0) (8.0.4)\n",
      "Requirement already satisfied: importlib-resources in /home/gaideh/anaconda3/envs/medicbotenv/lib/python3.6/site-packages (from pint>=0.8.1->chatterbot==1.0.0) (5.4.0)\n",
      "Requirement already satisfied: packaging in /home/gaideh/anaconda3/envs/medicbotenv/lib/python3.6/site-packages (from pint>=0.8.1->chatterbot==1.0.0) (21.3)\n",
      "Requirement already satisfied: importlib-metadata in /home/gaideh/anaconda3/envs/medicbotenv/lib/python3.6/site-packages (from pint>=0.8.1->chatterbot==1.0.0) (4.8.3)\n",
      "Requirement already satisfied: six>=1.5 in /home/gaideh/anaconda3/envs/medicbotenv/lib/python3.6/site-packages (from python-dateutil<2.8,>=2.7->chatterbot==1.0.0) (1.16.0)\n",
      "Requirement already satisfied: zipp>=0.5 in /home/gaideh/anaconda3/envs/medicbotenv/lib/python3.6/site-packages (from importlib-metadata->pint>=0.8.1->chatterbot==1.0.0) (3.6.0)\n",
      "Requirement already satisfied: typing-extensions>=3.6.4 in /home/gaideh/anaconda3/envs/medicbotenv/lib/python3.6/site-packages (from importlib-metadata->pint>=0.8.1->chatterbot==1.0.0) (4.1.1)\n",
      "Requirement already satisfied: pyparsing!=3.0.5,>=2.0.2 in /home/gaideh/anaconda3/envs/medicbotenv/lib/python3.6/site-packages (from packaging->pint>=0.8.1->chatterbot==1.0.0) (3.0.4)\n"
     ]
    }
   ],
   "source": [
    "!pip install chatterbot==1.0.0\n"
   ]
  },
  {
   "cell_type": "code",
   "execution_count": 4,
   "id": "b834e01b-5964-4671-a0ef-5deb5855c03d",
   "metadata": {
    "scrolled": true
   },
   "outputs": [
    {
     "name": "stdout",
     "output_type": "stream",
     "text": [
      "Requirement already satisfied: chatterbot_corpus in /home/gaideh/anaconda3/envs/medicbotenv/lib/python3.6/site-packages (1.2.0)\r\n",
      "Requirement already satisfied: PyYAML<4.0,>=3.12 in /home/gaideh/anaconda3/envs/medicbotenv/lib/python3.6/site-packages (from chatterbot_corpus) (3.13)\r\n"
     ]
    }
   ],
   "source": [
    "!pip install chatterbot_corpus\n"
   ]
  },
  {
   "cell_type": "code",
   "execution_count": 5,
   "id": "ca6d0139",
   "metadata": {},
   "outputs": [
    {
     "name": "stdout",
     "output_type": "stream",
     "text": [
      "Requirement already satisfied: spacy==2.1 in /home/gaideh/anaconda3/envs/medicbotenv/lib/python3.6/site-packages (2.1.0)\n",
      "Requirement already satisfied: wasabi<1.1.0,>=0.0.12 in /home/gaideh/anaconda3/envs/medicbotenv/lib/python3.6/site-packages (from spacy==2.1) (0.10.1)\n",
      "Requirement already satisfied: plac<1.0.0,>=0.9.6 in /home/gaideh/anaconda3/envs/medicbotenv/lib/python3.6/site-packages (from spacy==2.1) (0.9.6)\n",
      "Requirement already satisfied: numpy>=1.15.0 in /home/gaideh/anaconda3/envs/medicbotenv/lib/python3.6/site-packages (from spacy==2.1) (1.19.5)\n",
      "Requirement already satisfied: jsonschema<3.0.0,>=2.6.0 in /home/gaideh/anaconda3/envs/medicbotenv/lib/python3.6/site-packages (from spacy==2.1) (2.6.0)\n",
      "Requirement already satisfied: preshed<2.1.0,>=2.0.1 in /home/gaideh/anaconda3/envs/medicbotenv/lib/python3.6/site-packages (from spacy==2.1) (2.0.1)\n",
      "Requirement already satisfied: murmurhash<1.1.0,>=0.28.0 in /home/gaideh/anaconda3/envs/medicbotenv/lib/python3.6/site-packages (from spacy==2.1) (1.0.10)\n",
      "Requirement already satisfied: cymem<2.1.0,>=2.0.2 in /home/gaideh/anaconda3/envs/medicbotenv/lib/python3.6/site-packages (from spacy==2.1) (2.0.8)\n",
      "Requirement already satisfied: srsly<1.1.0,>=0.0.5 in /home/gaideh/anaconda3/envs/medicbotenv/lib/python3.6/site-packages (from spacy==2.1) (1.0.7)\n",
      "Requirement already satisfied: requests<3.0.0,>=2.13.0 in /home/gaideh/anaconda3/envs/medicbotenv/lib/python3.6/site-packages (from spacy==2.1) (2.27.1)\n",
      "Requirement already satisfied: thinc<7.1.0,>=7.0.2 in /home/gaideh/anaconda3/envs/medicbotenv/lib/python3.6/site-packages (from spacy==2.1) (7.0.8)\n",
      "Requirement already satisfied: blis<0.3.0,>=0.2.2 in /home/gaideh/anaconda3/envs/medicbotenv/lib/python3.6/site-packages (from spacy==2.1) (0.2.4)\n",
      "Requirement already satisfied: certifi>=2017.4.17 in /home/gaideh/anaconda3/envs/medicbotenv/lib/python3.6/site-packages (from requests<3.0.0,>=2.13.0->spacy==2.1) (2021.5.30)\n",
      "Requirement already satisfied: urllib3<1.27,>=1.21.1 in /home/gaideh/anaconda3/envs/medicbotenv/lib/python3.6/site-packages (from requests<3.0.0,>=2.13.0->spacy==2.1) (1.26.18)\n",
      "Requirement already satisfied: charset-normalizer~=2.0.0 in /home/gaideh/anaconda3/envs/medicbotenv/lib/python3.6/site-packages (from requests<3.0.0,>=2.13.0->spacy==2.1) (2.0.12)\n",
      "Requirement already satisfied: idna<4,>=2.5 in /home/gaideh/anaconda3/envs/medicbotenv/lib/python3.6/site-packages (from requests<3.0.0,>=2.13.0->spacy==2.1) (3.6)\n",
      "Requirement already satisfied: tqdm<5.0.0,>=4.10.0 in /home/gaideh/anaconda3/envs/medicbotenv/lib/python3.6/site-packages (from thinc<7.1.0,>=7.0.2->spacy==2.1) (4.64.1)\n",
      "Requirement already satisfied: importlib-resources in /home/gaideh/anaconda3/envs/medicbotenv/lib/python3.6/site-packages (from tqdm<5.0.0,>=4.10.0->thinc<7.1.0,>=7.0.2->spacy==2.1) (5.4.0)\n",
      "Requirement already satisfied: zipp>=3.1.0 in /home/gaideh/anaconda3/envs/medicbotenv/lib/python3.6/site-packages (from importlib-resources->tqdm<5.0.0,>=4.10.0->thinc<7.1.0,>=7.0.2->spacy==2.1) (3.6.0)\n"
     ]
    }
   ],
   "source": [
    "!pip install \"spacy==2.1\""
   ]
  },
  {
   "cell_type": "code",
   "execution_count": 6,
   "id": "e9f9f3e7",
   "metadata": {
    "scrolled": true
   },
   "outputs": [
    {
     "name": "stdout",
     "output_type": "stream",
     "text": [
      "Collecting en_core_web_sm==2.1.0\n",
      "  Downloading https://github.com/explosion/spacy-models/releases/download/en_core_web_sm-2.1.0/en_core_web_sm-2.1.0.tar.gz (11.1 MB)\n",
      "\u001b[K     |████████████████████████████████| 11.1 MB 877 kB/s eta 0:00:01\n",
      "\u001b[?25h\u001b[38;5;2m✔ Download and installation successful\u001b[0m\n",
      "You can now load the model via spacy.load('en_core_web_sm')\n"
     ]
    }
   ],
   "source": [
    "# After installing spacy, you may need to install language models for spaCy \n",
    "!python -m spacy download en_core_web_sm"
   ]
  },
  {
   "cell_type": "code",
   "execution_count": 8,
   "id": "1a09b12b",
   "metadata": {},
   "outputs": [],
   "source": [
    "# Load spaCy's English language model\n",
    "import spacy\n",
    "nlp = spacy.load(\"en_core_web_sm\")"
   ]
  },
  {
   "cell_type": "code",
   "execution_count": 9,
   "id": "4c4a4b96",
   "metadata": {
    "scrolled": true
   },
   "outputs": [
    {
     "name": "stderr",
     "output_type": "stream",
     "text": [
      "[nltk_data] Downloading package averaged_perceptron_tagger to\n",
      "[nltk_data]     /home/gaideh/nltk_data...\n",
      "[nltk_data]   Unzipping taggers/averaged_perceptron_tagger.zip.\n",
      "[nltk_data] Downloading package punkt to /home/gaideh/nltk_data...\n",
      "[nltk_data]   Unzipping tokenizers/punkt.zip.\n",
      "[nltk_data] Downloading package stopwords to /home/gaideh/nltk_data...\n",
      "[nltk_data]   Unzipping corpora/stopwords.zip.\n",
      "[nltk_data] Downloading package wordnet to /home/gaideh/nltk_data...\n"
     ]
    }
   ],
   "source": [
    "from chatterbot import ChatBot\n",
    "\n",
    "\n",
    "# Create a ChatBot instance\n",
    "bot = ChatBot(\n",
    "    'Buddy',\n",
    "    storage_adapter='chatterbot.storage.SQLStorageAdapter',\n",
    "    database_uri='sqlite:///database.sqlite3'  # you can replace with a db of choice eg Postgres\n",
    ")"
   ]
  },
  {
   "cell_type": "code",
   "execution_count": 10,
   "id": "4603db98",
   "metadata": {},
   "outputs": [
    {
     "name": "stdout",
     "output_type": "stream",
     "text": [
      "List Trainer: [####################] 100%\n"
     ]
    }
   ],
   "source": [
    "# Inport ListTrainer\n",
    "from chatterbot.trainers import ListTrainer\n",
    "\n",
    "trainer = ListTrainer(bot)\n",
    "\n",
    "trainer.train([\n",
    "'Hi',\n",
    "'Hello',\n",
    "'I need your assistance regarding my order',\n",
    "'Please, Provide me with your order id',\n",
    "'I have a complaint.',\n",
    "'Please elaborate, your concern',\n",
    "'How long it will take to receive an order ?',\n",
    "'An order takes 3-5 Business days to get delivered.',\n",
    "'Okay Thanks',\n",
    "'No Problem! Have a Good Day!'\n",
    "])"
   ]
  }
 ],
 "metadata": {
  "kernelspec": {
   "display_name": "Python 3",
   "language": "python",
   "name": "python3"
  },
  "language_info": {
   "codemirror_mode": {
    "name": "ipython",
    "version": 3
   },
   "file_extension": ".py",
   "mimetype": "text/x-python",
   "name": "python",
   "nbconvert_exporter": "python",
   "pygments_lexer": "ipython3",
   "version": "3.6.13"
  }
 },
 "nbformat": 4,
 "nbformat_minor": 5
}
