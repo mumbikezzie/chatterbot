{
 "cells": [
  {
   "cell_type": "code",
   "execution_count": 1,
   "id": "26ffd73b",
   "metadata": {},
   "outputs": [
    {
     "name": "stdout",
     "output_type": "stream",
     "text": [
      "Requirement already satisfied: nltk in c:\\users\\keziah\\anaconda3\\lib\\site-packages (3.8.1)\n",
      "Requirement already satisfied: click in c:\\users\\keziah\\anaconda3\\lib\\site-packages (from nltk) (8.1.7)\n",
      "Requirement already satisfied: joblib in c:\\users\\keziah\\anaconda3\\lib\\site-packages (from nltk) (1.2.0)\n",
      "Requirement already satisfied: regex>=2021.8.3 in c:\\users\\keziah\\anaconda3\\lib\\site-packages (from nltk) (2023.10.3)\n",
      "Requirement already satisfied: tqdm in c:\\users\\keziah\\anaconda3\\lib\\site-packages (from nltk) (4.65.0)\n",
      "Requirement already satisfied: colorama in c:\\users\\keziah\\anaconda3\\lib\\site-packages (from click->nltk) (0.4.6)\n",
      "Note: you may need to restart the kernel to use updated packages.\n"
     ]
    }
   ],
   "source": [
    "pip install nltk\n"
   ]
  },
  {
   "cell_type": "code",
   "execution_count": 2,
   "id": "17726385",
   "metadata": {},
   "outputs": [
    {
     "data": {
      "text/plain": [
       "{'i am': 'you are',\n",
       " 'i was': 'you were',\n",
       " 'i': 'you',\n",
       " \"i'm\": 'you are',\n",
       " \"i'd\": 'you would',\n",
       " \"i've\": 'you have',\n",
       " \"i'll\": 'you will',\n",
       " 'my': 'your',\n",
       " 'you are': 'I am',\n",
       " 'you were': 'I was',\n",
       " \"you've\": 'I have',\n",
       " \"you'll\": 'I will',\n",
       " 'your': 'my',\n",
       " 'yours': 'mine',\n",
       " 'you': 'me',\n",
       " 'me': 'you'}"
      ]
     },
     "execution_count": 2,
     "metadata": {},
     "output_type": "execute_result"
    }
   ],
   "source": [
    "from nltk.chat.util import Chat, reflections\n",
    "reflections"
   ]
  },
  {
   "cell_type": "code",
   "execution_count": 3,
   "id": "b8583731",
   "metadata": {},
   "outputs": [
    {
     "name": "stdout",
     "output_type": "stream",
     "text": [
      "Requirement already satisfied: pip in c:\\users\\keziah\\anaconda3\\lib\\site-packages (24.0)Note: you may need to restart the kernel to use updated packages.\n",
      "\n",
      "Requirement already satisfied: setuptools in c:\\users\\keziah\\anaconda3\\lib\\site-packages (69.0.3)\n"
     ]
    }
   ],
   "source": [
    "pip install --upgrade pip setuptools"
   ]
  },
  {
   "cell_type": "code",
   "execution_count": 4,
   "id": "25e02230",
   "metadata": {},
   "outputs": [
    {
     "name": "stdout",
     "output_type": "stream",
     "text": [
      "Requirement already satisfied: wheel in c:\\users\\keziah\\anaconda3\\lib\\site-packages (0.41.2)\n",
      "Note: you may need to restart the kernel to use updated packages.\n"
     ]
    }
   ],
   "source": [
    "pip install wheel"
   ]
  },
  {
   "cell_type": "code",
   "execution_count": 5,
   "id": "7af8c1f5",
   "metadata": {},
   "outputs": [
    {
     "name": "stdout",
     "output_type": "stream",
     "text": [
      "Note: you may need to restart the kernel to use updated packages.\n"
     ]
    },
    {
     "name": "stderr",
     "output_type": "stream",
     "text": [
      "ERROR: Ignored the following yanked versions: 1.1.0\n",
      "ERROR: Ignored the following versions that require a different python version: 1.0.7 Requires-Python >=3.4, <=3.8; 1.0.8 Requires-Python >=3.4, <=3.8\n",
      "ERROR: Could not find a version that satisfies the requirement chatterbot==1.0.7 (from versions: 0.1.1.linux-x86_64, 0.5.2.linux-x86_64, 0.5.3.linux-x86_64, 0.5.4.linux-x86_64, 0.0.0, 0.0.1, 0.0.2, 0.0.3, 0.0.4, 0.0.5, 0.1.0, 0.1.1, 0.1.2, 0.2.0, 0.2.1, 0.2.2, 0.2.3, 0.2.4, 0.2.5, 0.2.6, 0.2.7, 0.2.8, 0.2.9, 0.3.0, 0.3.1, 0.3.2, 0.3.3, 0.3.4, 0.3.5, 0.3.6, 0.3.7, 0.4.0, 0.4.1, 0.4.2, 0.4.3, 0.4.4, 0.4.5, 0.4.6, 0.4.7, 0.4.8, 0.4.9, 0.4.10, 0.4.11, 0.4.12, 0.4.13, 0.5.0, 0.5.1, 0.5.2, 0.5.3, 0.5.4, 0.5.5, 0.6.0, 0.6.1, 0.6.2, 0.6.3, 0.7.0, 0.7.1, 0.7.2, 0.7.3, 0.7.4, 0.7.5, 0.7.6, 0.8.0, 0.8.1, 0.8.2, 0.8.3, 0.8.4, 0.8.5, 0.8.6, 0.8.7, 1.0.0a1, 1.0.0a2, 1.0.0a3, 1.0.0a4, 1.0.0, 1.0.1, 1.0.2, 1.0.3, 1.0.4, 1.0.5, 1.1.0a7)\n",
      "ERROR: No matching distribution found for chatterbot==1.0.7\n"
     ]
    }
   ],
   "source": [
    "pip install chatterbot==1.0.7"
   ]
  },
  {
   "cell_type": "code",
   "execution_count": 6,
   "id": "5c27d093",
   "metadata": {},
   "outputs": [
    {
     "name": "stdout",
     "output_type": "stream",
     "text": [
      "Requirement already satisfied: chatterbot_corpus in c:\\users\\keziah\\anaconda3\\lib\\site-packages (1.2.0)\n",
      "Requirement already satisfied: PyYAML<4.0,>=3.12 in c:\\users\\keziah\\anaconda3\\lib\\site-packages (from chatterbot_corpus) (3.13)\n",
      "Note: you may need to restart the kernel to use updated packages.\n"
     ]
    }
   ],
   "source": [
    "pip install chatterbot_corpus"
   ]
  },
  {
   "cell_type": "code",
   "execution_count": 7,
   "id": "0162e249",
   "metadata": {},
   "outputs": [],
   "source": [
    "from chatterbot import ChatBot\n",
    "#from chatterbot.trainers import ChatterBotCorpusTrainer"
   ]
  },
  {
   "cell_type": "code",
   "execution_count": 8,
   "id": "cf6d4e1b",
   "metadata": {},
   "outputs": [
    {
     "data": {
      "text/plain": [
       "'C:\\\\Users\\\\Keziah'"
      ]
     },
     "execution_count": 8,
     "metadata": {},
     "output_type": "execute_result"
    }
   ],
   "source": [
    "import os\n",
    "os.getcwd()\n"
   ]
  },
  {
   "cell_type": "code",
   "execution_count": 9,
   "id": "c8195661",
   "metadata": {},
   "outputs": [
    {
     "ename": "TypeError",
     "evalue": "Invalid argument(s) 'convert_unicode' sent to create_engine(), using configuration SQLiteDialect_pysqlite/QueuePool/Engine.  Please check that the keyword arguments are appropriate for this combination of components.",
     "output_type": "error",
     "traceback": [
      "\u001b[1;31m---------------------------------------------------------------------------\u001b[0m",
      "\u001b[1;31mTypeError\u001b[0m                                 Traceback (most recent call last)",
      "Cell \u001b[1;32mIn[9], line 6\u001b[0m\n\u001b[0;32m      3\u001b[0m \u001b[38;5;28;01mfrom\u001b[39;00m \u001b[38;5;21;01mchatterbot\u001b[39;00m\u001b[38;5;21;01m.\u001b[39;00m\u001b[38;5;21;01mtrainers\u001b[39;00m \u001b[38;5;28;01mimport\u001b[39;00m ChatterBotCorpusTrainer\n\u001b[0;32m      5\u001b[0m \u001b[38;5;66;03m# Create a new chatbot instance with the custom storage adapter\u001b[39;00m\n\u001b[1;32m----> 6\u001b[0m mychat \u001b[38;5;241m=\u001b[39m \u001b[43mChatBot\u001b[49m\u001b[43m(\u001b[49m\u001b[38;5;124;43m'\u001b[39;49m\u001b[38;5;124;43mFirstAidBot\u001b[39;49m\u001b[38;5;124;43m'\u001b[39;49m\u001b[43m,\u001b[49m\u001b[43m \u001b[49m\u001b[43mstorage_adapter\u001b[49m\u001b[38;5;241;43m=\u001b[39;49m\u001b[38;5;124;43m\"\u001b[39;49m\u001b[38;5;124;43mcustom_sql_storage.CustomSQLStorageAdapter\u001b[39;49m\u001b[38;5;124;43m\"\u001b[39;49m\u001b[43m)\u001b[49m\n\u001b[0;32m      8\u001b[0m \u001b[38;5;66;03m# Create a ChatterBotCorpusTrainer and train the chatbot in the English Language\u001b[39;00m\n\u001b[0;32m      9\u001b[0m trainer \u001b[38;5;241m=\u001b[39m ChatterBotCorpusTrainer(mychat)\n",
      "File \u001b[1;32m~\\anaconda3\\lib\\site-packages\\chatterbot\\chatterbot.py:35\u001b[0m, in \u001b[0;36mChatBot.__init__\u001b[1;34m(self, name, **kwargs)\u001b[0m\n\u001b[0;32m     32\u001b[0m \u001b[38;5;66;03m# Logic adapters used by the chat bot\u001b[39;00m\n\u001b[0;32m     33\u001b[0m \u001b[38;5;28mself\u001b[39m\u001b[38;5;241m.\u001b[39mlogic_adapters \u001b[38;5;241m=\u001b[39m []\n\u001b[1;32m---> 35\u001b[0m \u001b[38;5;28mself\u001b[39m\u001b[38;5;241m.\u001b[39mstorage \u001b[38;5;241m=\u001b[39m utils\u001b[38;5;241m.\u001b[39minitialize_class(storage_adapter, \u001b[38;5;241m*\u001b[39m\u001b[38;5;241m*\u001b[39mkwargs)\n\u001b[0;32m     37\u001b[0m \u001b[38;5;28;01mfor\u001b[39;00m adapter \u001b[38;5;129;01min\u001b[39;00m logic_adapters:\n\u001b[0;32m     38\u001b[0m     utils\u001b[38;5;241m.\u001b[39mvalidate_adapter_class(adapter, LogicAdapter)\n",
      "File \u001b[1;32m~\\anaconda3\\lib\\site-packages\\chatterbot\\utils.py:54\u001b[0m, in \u001b[0;36minitialize_class\u001b[1;34m(data, *args, **kwargs)\u001b[0m\n\u001b[0;32m     51\u001b[0m \u001b[38;5;28;01melse\u001b[39;00m:\n\u001b[0;32m     52\u001b[0m     Class \u001b[38;5;241m=\u001b[39m import_module(data)\n\u001b[1;32m---> 54\u001b[0m     \u001b[38;5;28;01mreturn\u001b[39;00m Class(\u001b[38;5;241m*\u001b[39margs, \u001b[38;5;241m*\u001b[39m\u001b[38;5;241m*\u001b[39mkwargs)\n",
      "File \u001b[1;32m~\\custom_sql_storage.py:6\u001b[0m, in \u001b[0;36mCustomSQLStorageAdapter.__init__\u001b[1;34m(self, **kwargs)\u001b[0m\n\u001b[0;32m      5\u001b[0m \u001b[38;5;28;01mdef\u001b[39;00m \u001b[38;5;21m__init__\u001b[39m(\u001b[38;5;28mself\u001b[39m, \u001b[38;5;241m*\u001b[39m\u001b[38;5;241m*\u001b[39mkwargs):\n\u001b[1;32m----> 6\u001b[0m     \u001b[38;5;28msuper\u001b[39m()\u001b[38;5;241m.\u001b[39m\u001b[38;5;21m__init__\u001b[39m(\u001b[38;5;241m*\u001b[39m\u001b[38;5;241m*\u001b[39mkwargs)\n\u001b[0;32m      7\u001b[0m     \u001b[38;5;28;01mif\u001b[39;00m \u001b[38;5;129;01mnot\u001b[39;00m \u001b[38;5;28mself\u001b[39m\u001b[38;5;241m.\u001b[39mdatabase_uri:\n\u001b[0;32m      8\u001b[0m         \u001b[38;5;28mself\u001b[39m\u001b[38;5;241m.\u001b[39mdatabase_uri \u001b[38;5;241m=\u001b[39m \u001b[38;5;124m'\u001b[39m\u001b[38;5;124msqlite:///db.sqlite3\u001b[39m\u001b[38;5;124m'\u001b[39m\n",
      "File \u001b[1;32m~\\anaconda3\\lib\\site-packages\\chatterbot\\storage\\sql_storage.py:35\u001b[0m, in \u001b[0;36mSQLStorageAdapter.__init__\u001b[1;34m(self, **kwargs)\u001b[0m\n\u001b[0;32m     32\u001b[0m \u001b[38;5;28;01mif\u001b[39;00m \u001b[38;5;129;01mnot\u001b[39;00m \u001b[38;5;28mself\u001b[39m\u001b[38;5;241m.\u001b[39mdatabase_uri:\n\u001b[0;32m     33\u001b[0m     \u001b[38;5;28mself\u001b[39m\u001b[38;5;241m.\u001b[39mdatabase_uri \u001b[38;5;241m=\u001b[39m \u001b[38;5;124m'\u001b[39m\u001b[38;5;124msqlite:///db.sqlite3\u001b[39m\u001b[38;5;124m'\u001b[39m\n\u001b[1;32m---> 35\u001b[0m \u001b[38;5;28mself\u001b[39m\u001b[38;5;241m.\u001b[39mengine \u001b[38;5;241m=\u001b[39m \u001b[43mcreate_engine\u001b[49m\u001b[43m(\u001b[49m\u001b[38;5;28;43mself\u001b[39;49m\u001b[38;5;241;43m.\u001b[39;49m\u001b[43mdatabase_uri\u001b[49m\u001b[43m,\u001b[49m\u001b[43m \u001b[49m\u001b[43mconvert_unicode\u001b[49m\u001b[38;5;241;43m=\u001b[39;49m\u001b[38;5;28;43;01mTrue\u001b[39;49;00m\u001b[43m)\u001b[49m\n\u001b[0;32m     37\u001b[0m \u001b[38;5;28;01mif\u001b[39;00m \u001b[38;5;28mself\u001b[39m\u001b[38;5;241m.\u001b[39mdatabase_uri\u001b[38;5;241m.\u001b[39mstartswith(\u001b[38;5;124m'\u001b[39m\u001b[38;5;124msqlite://\u001b[39m\u001b[38;5;124m'\u001b[39m):\n\u001b[0;32m     38\u001b[0m     \u001b[38;5;28;01mfrom\u001b[39;00m \u001b[38;5;21;01msqlalchemy\u001b[39;00m\u001b[38;5;21;01m.\u001b[39;00m\u001b[38;5;21;01mengine\u001b[39;00m \u001b[38;5;28;01mimport\u001b[39;00m Engine\n",
      "File \u001b[1;32m<string>:2\u001b[0m, in \u001b[0;36mcreate_engine\u001b[1;34m(url, **kwargs)\u001b[0m\n",
      "File \u001b[1;32m~\\anaconda3\\lib\\site-packages\\sqlalchemy\\util\\deprecations.py:281\u001b[0m, in \u001b[0;36mdeprecated_params.<locals>.decorate.<locals>.warned\u001b[1;34m(fn, *args, **kwargs)\u001b[0m\n\u001b[0;32m    274\u001b[0m     \u001b[38;5;28;01mif\u001b[39;00m m \u001b[38;5;129;01min\u001b[39;00m kwargs:\n\u001b[0;32m    275\u001b[0m         _warn_with_version(\n\u001b[0;32m    276\u001b[0m             messages[m],\n\u001b[0;32m    277\u001b[0m             versions[m],\n\u001b[0;32m    278\u001b[0m             version_warnings[m],\n\u001b[0;32m    279\u001b[0m             stacklevel\u001b[38;5;241m=\u001b[39m\u001b[38;5;241m3\u001b[39m,\n\u001b[0;32m    280\u001b[0m         )\n\u001b[1;32m--> 281\u001b[0m \u001b[38;5;28;01mreturn\u001b[39;00m fn(\u001b[38;5;241m*\u001b[39margs, \u001b[38;5;241m*\u001b[39m\u001b[38;5;241m*\u001b[39mkwargs)\n",
      "File \u001b[1;32m~\\anaconda3\\lib\\site-packages\\sqlalchemy\\engine\\create.py:688\u001b[0m, in \u001b[0;36mcreate_engine\u001b[1;34m(url, **kwargs)\u001b[0m\n\u001b[0;32m    686\u001b[0m \u001b[38;5;66;03m# all kwargs should be consumed\u001b[39;00m\n\u001b[0;32m    687\u001b[0m \u001b[38;5;28;01mif\u001b[39;00m kwargs:\n\u001b[1;32m--> 688\u001b[0m     \u001b[38;5;28;01mraise\u001b[39;00m \u001b[38;5;167;01mTypeError\u001b[39;00m(\n\u001b[0;32m    689\u001b[0m         \u001b[38;5;124m\"\u001b[39m\u001b[38;5;124mInvalid argument(s) \u001b[39m\u001b[38;5;132;01m%s\u001b[39;00m\u001b[38;5;124m sent to create_engine(), \u001b[39m\u001b[38;5;124m\"\u001b[39m\n\u001b[0;32m    690\u001b[0m         \u001b[38;5;124m\"\u001b[39m\u001b[38;5;124musing configuration \u001b[39m\u001b[38;5;132;01m%s\u001b[39;00m\u001b[38;5;124m/\u001b[39m\u001b[38;5;132;01m%s\u001b[39;00m\u001b[38;5;124m/\u001b[39m\u001b[38;5;132;01m%s\u001b[39;00m\u001b[38;5;124m.  Please check that the \u001b[39m\u001b[38;5;124m\"\u001b[39m\n\u001b[0;32m    691\u001b[0m         \u001b[38;5;124m\"\u001b[39m\u001b[38;5;124mkeyword arguments are appropriate for this combination \u001b[39m\u001b[38;5;124m\"\u001b[39m\n\u001b[0;32m    692\u001b[0m         \u001b[38;5;124m\"\u001b[39m\u001b[38;5;124mof components.\u001b[39m\u001b[38;5;124m\"\u001b[39m\n\u001b[0;32m    693\u001b[0m         \u001b[38;5;241m%\u001b[39m (\n\u001b[0;32m    694\u001b[0m             \u001b[38;5;124m\"\u001b[39m\u001b[38;5;124m,\u001b[39m\u001b[38;5;124m\"\u001b[39m\u001b[38;5;241m.\u001b[39mjoin(\u001b[38;5;124m\"\u001b[39m\u001b[38;5;124m'\u001b[39m\u001b[38;5;132;01m%s\u001b[39;00m\u001b[38;5;124m'\u001b[39m\u001b[38;5;124m\"\u001b[39m \u001b[38;5;241m%\u001b[39m k \u001b[38;5;28;01mfor\u001b[39;00m k \u001b[38;5;129;01min\u001b[39;00m kwargs),\n\u001b[0;32m    695\u001b[0m             dialect\u001b[38;5;241m.\u001b[39m\u001b[38;5;18m__class__\u001b[39m\u001b[38;5;241m.\u001b[39m\u001b[38;5;18m__name__\u001b[39m,\n\u001b[0;32m    696\u001b[0m             pool\u001b[38;5;241m.\u001b[39m\u001b[38;5;18m__class__\u001b[39m\u001b[38;5;241m.\u001b[39m\u001b[38;5;18m__name__\u001b[39m,\n\u001b[0;32m    697\u001b[0m             engineclass\u001b[38;5;241m.\u001b[39m\u001b[38;5;18m__name__\u001b[39m,\n\u001b[0;32m    698\u001b[0m         )\n\u001b[0;32m    699\u001b[0m     )\n\u001b[0;32m    701\u001b[0m engine \u001b[38;5;241m=\u001b[39m engineclass(pool, dialect, u, \u001b[38;5;241m*\u001b[39m\u001b[38;5;241m*\u001b[39mengine_args)\n\u001b[0;32m    703\u001b[0m \u001b[38;5;28;01mif\u001b[39;00m _initialize:\n",
      "\u001b[1;31mTypeError\u001b[0m: Invalid argument(s) 'convert_unicode' sent to create_engine(), using configuration SQLiteDialect_pysqlite/QueuePool/Engine.  Please check that the keyword arguments are appropriate for this combination of components."
     ]
    }
   ],
   "source": [
    "from chatterbot import ChatBot\n",
    "from custom_sql_storage import CustomSQLStorageAdapter\n",
    "from chatterbot.trainers import ChatterBotCorpusTrainer\n",
    "\n",
    "# Create a new chatbot instance with the custom storage adapter\n",
    "mychat = ChatBot('MedicalBot', storage_adapter=\"custom_sql_storage.CustomSQLStorageAdapter\")\n",
    "\n",
    "# Create a ChatterBotCorpusTrainer and train the chatbot in the English Language\n",
    "trainer = ChatterBotCorpusTrainer(mychat)\n"
   ]
  },
  {
   "cell_type": "code",
   "execution_count": 10,
   "id": "56627aea",
   "metadata": {},
   "outputs": [
    {
     "name": "stdout",
     "output_type": "stream",
     "text": [
      "Requirement already satisfied: setuptools in c:\\users\\keziah\\anaconda3\\lib\\site-packages (69.0.3)\n",
      "Requirement already satisfied: pip in c:\\users\\keziah\\anaconda3\\lib\\site-packages (24.0)\n"
     ]
    }
   ],
   "source": [
    "!pip install --upgrade setuptools\n",
    "!pip install --upgrade pip"
   ]
  },
  {
   "cell_type": "code",
   "execution_count": 11,
   "id": "ffadd7dd",
   "metadata": {},
   "outputs": [
    {
     "name": "stdout",
     "output_type": "stream",
     "text": [
      "Requirement already satisfied: chatterbot in c:\\users\\keziah\\anaconda3\\lib\\site-packages (1.0.2)\n",
      "Collecting chatterbot\n",
      "  Using cached ChatterBot-1.0.5-py2.py3-none-any.whl (67 kB)\n",
      "Requirement already satisfied: mathparse<0.2,>=0.1 in c:\\users\\keziah\\anaconda3\\lib\\site-packages (from chatterbot) (0.1.2)\n",
      "Requirement already satisfied: nltk<4.0,>=3.2 in c:\\users\\keziah\\anaconda3\\lib\\site-packages (from chatterbot) (3.8.1)\n",
      "Requirement already satisfied: pint>=0.8.1 in c:\\users\\keziah\\anaconda3\\lib\\site-packages (from chatterbot) (0.23)\n",
      "Requirement already satisfied: pymongo<4.0,>=3.3 in c:\\users\\keziah\\anaconda3\\lib\\site-packages (from chatterbot) (3.13.0)\n",
      "Requirement already satisfied: python-dateutil<2.8,>=2.7 in c:\\users\\keziah\\anaconda3\\lib\\site-packages (from chatterbot) (2.7.5)\n",
      "Collecting pyyaml<5.2,>=5.1 (from chatterbot)\n",
      "  Using cached PyYAML-5.1.2.tar.gz (265 kB)\n",
      "  Preparing metadata (setup.py): started\n",
      "  Preparing metadata (setup.py): finished with status 'done'\n",
      "Collecting spacy<2.2,>=2.1 (from chatterbot)\n",
      "  Using cached spacy-2.1.9.tar.gz (30.7 MB)\n",
      "  Installing build dependencies: started\n",
      "  Installing build dependencies: finished with status 'error'\n"
     ]
    },
    {
     "name": "stderr",
     "output_type": "stream",
     "text": [
      "  error: subprocess-exited-with-error\n",
      "  \n",
      "  pip subprocess to install build dependencies did not run successfully.\n",
      "  exit code: 1\n",
      "  \n",
      "  [321 lines of output]\n",
      "  Collecting setuptools\n",
      "    Using cached setuptools-69.0.3-py3-none-any.whl.metadata (6.3 kB)\n",
      "  Collecting wheel<0.33.0,>0.32.0\n",
      "    Using cached wheel-0.32.3-py2.py3-none-any.whl (21 kB)\n",
      "  Collecting Cython\n",
      "    Using cached Cython-3.0.8-cp39-cp39-win_amd64.whl.metadata (3.2 kB)\n",
      "  Collecting cymem<2.1.0,>=2.0.2\n",
      "    Using cached cymem-2.0.8-cp39-cp39-win_amd64.whl.metadata (8.6 kB)\n",
      "  Collecting preshed<2.1.0,>=2.0.1\n",
      "    Using cached preshed-2.0.1.tar.gz (113 kB)\n",
      "    Preparing metadata (setup.py): started\n",
      "    Preparing metadata (setup.py): finished with status 'done'\n",
      "  Collecting murmurhash<1.1.0,>=0.28.0\n",
      "    Using cached murmurhash-1.0.10-cp39-cp39-win_amd64.whl.metadata (2.0 kB)\n",
      "  Collecting thinc<7.1.0,>=7.0.8\n",
      "    Using cached thinc-7.0.8.tar.gz (1.9 MB)\n",
      "    Preparing metadata (setup.py): started\n",
      "    Preparing metadata (setup.py): finished with status 'done'\n",
      "  Collecting blis<0.3.0,>=0.2.1 (from thinc<7.1.0,>=7.0.8)\n",
      "    Using cached blis-0.2.4.tar.gz (1.5 MB)\n",
      "    Preparing metadata (setup.py): started\n",
      "    Preparing metadata (setup.py): finished with status 'done'\n",
      "  Collecting wasabi<1.1.0,>=0.0.9 (from thinc<7.1.0,>=7.0.8)\n",
      "    Using cached wasabi-0.10.1-py3-none-any.whl (26 kB)\n",
      "  Collecting srsly<1.1.0,>=0.0.6 (from thinc<7.1.0,>=7.0.8)\n",
      "    Using cached srsly-1.0.7-cp39-cp39-win_amd64.whl.metadata (14 kB)\n",
      "  Collecting numpy>=1.7.0 (from thinc<7.1.0,>=7.0.8)\n",
      "    Using cached numpy-1.26.4-cp39-cp39-win_amd64.whl.metadata (61 kB)\n",
      "  Collecting plac<1.0.0,>=0.9.6 (from thinc<7.1.0,>=7.0.8)\n",
      "    Using cached plac-0.9.6-py2.py3-none-any.whl (20 kB)\n",
      "  Collecting tqdm<5.0.0,>=4.10.0 (from thinc<7.1.0,>=7.0.8)\n",
      "    Using cached tqdm-4.66.1-py3-none-any.whl.metadata (57 kB)\n",
      "  Collecting colorama (from tqdm<5.0.0,>=4.10.0->thinc<7.1.0,>=7.0.8)\n",
      "    Using cached colorama-0.4.6-py2.py3-none-any.whl (25 kB)\n",
      "  Using cached setuptools-69.0.3-py3-none-any.whl (819 kB)\n",
      "  Using cached Cython-3.0.8-cp39-cp39-win_amd64.whl (2.8 MB)\n",
      "  Using cached cymem-2.0.8-cp39-cp39-win_amd64.whl (39 kB)\n",
      "  Using cached murmurhash-1.0.10-cp39-cp39-win_amd64.whl (25 kB)\n",
      "  Using cached numpy-1.26.4-cp39-cp39-win_amd64.whl (15.8 MB)\n",
      "  Using cached srsly-1.0.7-cp39-cp39-win_amd64.whl (358 kB)\n",
      "  Using cached tqdm-4.66.1-py3-none-any.whl (78 kB)\n",
      "  Building wheels for collected packages: preshed, thinc, blis\n",
      "    Building wheel for preshed (setup.py): started\n",
      "    Building wheel for preshed (setup.py): finished with status 'error'\n",
      "    error: subprocess-exited-with-error\n",
      "  \n",
      "    python setup.py bdist_wheel did not run successfully.\n",
      "    exit code: 1\n",
      "  \n",
      "    [31 lines of output]\n",
      "    C:\\Users\\Keziah\\anaconda3\\lib\\site-packages\\setuptools\\__init__.py:80: _DeprecatedInstaller: setuptools.installer and fetch_build_eggs are deprecated.\n",
      "    !!\n",
      "  \n",
      "            ********************************************************************************\n",
      "            Requirements should be satisfied by a PEP 517 installer.\n",
      "            If you are using pip, you can try `pip install --use-pep517`.\n",
      "            ********************************************************************************\n",
      "  \n",
      "    !!\n",
      "      dist.fetch_build_eggs(dist.setup_requires)\n",
      "    running bdist_wheel\n",
      "    running build\n",
      "    running build_py\n",
      "    creating build\n",
      "    creating build\\lib.win-amd64-cpython-39\n",
      "    creating build\\lib.win-amd64-cpython-39\\preshed\n",
      "    copying preshed\\about.py -> build\\lib.win-amd64-cpython-39\\preshed\n",
      "    copying preshed\\__init__.py -> build\\lib.win-amd64-cpython-39\\preshed\n",
      "    creating build\\lib.win-amd64-cpython-39\\preshed\\tests\n",
      "    copying preshed\\tests\\test_counter.py -> build\\lib.win-amd64-cpython-39\\preshed\\tests\n",
      "    copying preshed\\tests\\test_hashing.py -> build\\lib.win-amd64-cpython-39\\preshed\\tests\n",
      "    copying preshed\\tests\\test_pop.py -> build\\lib.win-amd64-cpython-39\\preshed\\tests\n",
      "    copying preshed\\tests\\__init__.py -> build\\lib.win-amd64-cpython-39\\preshed\\tests\n",
      "    copying preshed\\counter.pyx -> build\\lib.win-amd64-cpython-39\\preshed\n",
      "    copying preshed\\maps.pyx -> build\\lib.win-amd64-cpython-39\\preshed\n",
      "    copying preshed\\counter.pxd -> build\\lib.win-amd64-cpython-39\\preshed\n",
      "    copying preshed\\maps.pxd -> build\\lib.win-amd64-cpython-39\\preshed\n",
      "    copying preshed\\__init__.pxd -> build\\lib.win-amd64-cpython-39\\preshed\n",
      "    running build_ext\n",
      "    building 'preshed.maps' extension\n",
      "    error: Microsoft Visual C++ 14.0 or greater is required. Get it with \"Microsoft C++ Build Tools\": https://visualstudio.microsoft.com/visual-cpp-build-tools/\n",
      "    [end of output]\n",
      "  \n",
      "    note: This error originates from a subprocess, and is likely not a problem with pip.\n",
      "    ERROR: Failed building wheel for preshed\n",
      "    Running setup.py clean for preshed\n",
      "    Building wheel for thinc (setup.py): started\n",
      "    Building wheel for thinc (setup.py): finished with status 'error'\n",
      "    error: subprocess-exited-with-error\n",
      "  \n",
      "    python setup.py bdist_wheel did not run successfully.\n",
      "    exit code: 1\n",
      "  \n",
      "    [176 lines of output]\n",
      "    C:\\Users\\Keziah\\anaconda3\\lib\\site-packages\\setuptools\\__init__.py:80: _DeprecatedInstaller: setuptools.installer and fetch_build_eggs are deprecated.\n",
      "    !!\n",
      "  \n",
      "            ********************************************************************************\n",
      "            Requirements should be satisfied by a PEP 517 installer.\n",
      "            If you are using pip, you can try `pip install --use-pep517`.\n",
      "            ********************************************************************************\n",
      "  \n",
      "    !!\n",
      "      dist.fetch_build_eggs(dist.setup_requires)\n",
      "    running bdist_wheel\n",
      "    running build\n",
      "    running build_py\n",
      "    creating build\n",
      "    creating build\\lib.win-amd64-cpython-39\n",
      "    creating build\\lib.win-amd64-cpython-39\\thinc\n",
      "    copying thinc\\about.py -> build\\lib.win-amd64-cpython-39\\thinc\n",
      "    copying thinc\\api.py -> build\\lib.win-amd64-cpython-39\\thinc\n",
      "    copying thinc\\check.py -> build\\lib.win-amd64-cpython-39\\thinc\n",
      "    copying thinc\\compat.py -> build\\lib.win-amd64-cpython-39\\thinc\n",
      "    copying thinc\\describe.py -> build\\lib.win-amd64-cpython-39\\thinc\n",
      "    copying thinc\\exceptions.py -> build\\lib.win-amd64-cpython-39\\thinc\n",
      "    copying thinc\\i2v.py -> build\\lib.win-amd64-cpython-39\\thinc\n",
      "    copying thinc\\loss.py -> build\\lib.win-amd64-cpython-39\\thinc\n",
      "    copying thinc\\misc.py -> build\\lib.win-amd64-cpython-39\\thinc\n",
      "    copying thinc\\rates.py -> build\\lib.win-amd64-cpython-39\\thinc\n",
      "    copying thinc\\t2t.py -> build\\lib.win-amd64-cpython-39\\thinc\n",
      "    copying thinc\\t2v.py -> build\\lib.win-amd64-cpython-39\\thinc\n",
      "    copying thinc\\v2v.py -> build\\lib.win-amd64-cpython-39\\thinc\n",
      "    copying thinc\\__init__.py -> build\\lib.win-amd64-cpython-39\\thinc\n",
      "    creating build\\lib.win-amd64-cpython-39\\thinc\\tests\n",
      "    copying thinc\\tests\\conftest.py -> build\\lib.win-amd64-cpython-39\\thinc\\tests\n",
      "    copying thinc\\tests\\strategies.py -> build\\lib.win-amd64-cpython-39\\thinc\\tests\n",
      "    copying thinc\\tests\\test_api_funcs.py -> build\\lib.win-amd64-cpython-39\\thinc\\tests\n",
      "    copying thinc\\tests\\test_util.py -> build\\lib.win-amd64-cpython-39\\thinc\\tests\n",
      "    copying thinc\\tests\\util.py -> build\\lib.win-amd64-cpython-39\\thinc\\tests\n",
      "    copying thinc\\tests\\__init__.py -> build\\lib.win-amd64-cpython-39\\thinc\\tests\n",
      "    creating build\\lib.win-amd64-cpython-39\\thinc\\tests\\unit\n",
      "    copying thinc\\tests\\unit\\test_about.py -> build\\lib.win-amd64-cpython-39\\thinc\\tests\\unit\n",
      "    copying thinc\\tests\\unit\\test_affine.py -> build\\lib.win-amd64-cpython-39\\thinc\\tests\\unit\n",
      "    copying thinc\\tests\\unit\\test_beam_search.py -> build\\lib.win-amd64-cpython-39\\thinc\\tests\\unit\n",
      "    copying thinc\\tests\\unit\\test_check_exceptions.py -> build\\lib.win-amd64-cpython-39\\thinc\\tests\\unit\n",
      "    copying thinc\\tests\\unit\\test_difference.py -> build\\lib.win-amd64-cpython-39\\thinc\\tests\\unit\n",
      "    copying thinc\\tests\\unit\\test_feature_extracter.py -> build\\lib.win-amd64-cpython-39\\thinc\\tests\\unit\n",
      "    copying thinc\\tests\\unit\\test_hash_embed.py -> build\\lib.win-amd64-cpython-39\\thinc\\tests\\unit\n",
      "    copying thinc\\tests\\unit\\test_imports.py -> build\\lib.win-amd64-cpython-39\\thinc\\tests\\unit\n",
      "    copying thinc\\tests\\unit\\test_linear.py -> build\\lib.win-amd64-cpython-39\\thinc\\tests\\unit\n",
      "    copying thinc\\tests\\unit\\test_loss.py -> build\\lib.win-amd64-cpython-39\\thinc\\tests\\unit\n",
      "    copying thinc\\tests\\unit\\test_mem.py -> build\\lib.win-amd64-cpython-39\\thinc\\tests\\unit\n",
      "    copying thinc\\tests\\unit\\test_model.py -> build\\lib.win-amd64-cpython-39\\thinc\\tests\\unit\n",
      "    copying thinc\\tests\\unit\\test_ops.py -> build\\lib.win-amd64-cpython-39\\thinc\\tests\\unit\n",
      "    copying thinc\\tests\\unit\\test_pickle.py -> build\\lib.win-amd64-cpython-39\\thinc\\tests\\unit\n",
      "    copying thinc\\tests\\unit\\test_pooling.py -> build\\lib.win-amd64-cpython-39\\thinc\\tests\\unit\n",
      "    copying thinc\\tests\\unit\\test_pytorch_wrapper.py -> build\\lib.win-amd64-cpython-39\\thinc\\tests\\unit\n",
      "    copying thinc\\tests\\unit\\test_rates.py -> build\\lib.win-amd64-cpython-39\\thinc\\tests\\unit\n",
      "    copying thinc\\tests\\unit\\test_rnn.py -> build\\lib.win-amd64-cpython-39\\thinc\\tests\\unit\n",
      "    copying thinc\\tests\\unit\\__init__.py -> build\\lib.win-amd64-cpython-39\\thinc\\tests\\unit\n",
      "    creating build\\lib.win-amd64-cpython-39\\thinc\\tests\\integration\n",
      "    copying thinc\\tests\\integration\\test_affine_learns.py -> build\\lib.win-amd64-cpython-39\\thinc\\tests\\integration\n",
      "    copying thinc\\tests\\integration\\test_basic_tagger.py -> build\\lib.win-amd64-cpython-39\\thinc\\tests\\integration\n",
      "    copying thinc\\tests\\integration\\test_batch_norm.py -> build\\lib.win-amd64-cpython-39\\thinc\\tests\\integration\n",
      "    copying thinc\\tests\\integration\\test_feed_forward.py -> build\\lib.win-amd64-cpython-39\\thinc\\tests\\integration\n",
      "    copying thinc\\tests\\integration\\test_mnist.py -> build\\lib.win-amd64-cpython-39\\thinc\\tests\\integration\n",
      "    copying thinc\\tests\\integration\\test_pickle.py -> build\\lib.win-amd64-cpython-39\\thinc\\tests\\integration\n",
      "    copying thinc\\tests\\integration\\test_roundtrip_bytes.py -> build\\lib.win-amd64-cpython-39\\thinc\\tests\\integration\n",
      "    copying thinc\\tests\\integration\\test_shape_check.py -> build\\lib.win-amd64-cpython-39\\thinc\\tests\\integration\n",
      "    copying thinc\\tests\\integration\\__init__.py -> build\\lib.win-amd64-cpython-39\\thinc\\tests\\integration\n",
      "    creating build\\lib.win-amd64-cpython-39\\thinc\\tests\\linear\n",
      "    copying thinc\\tests\\linear\\test_avgtron.py -> build\\lib.win-amd64-cpython-39\\thinc\\tests\\linear\n",
      "    copying thinc\\tests\\linear\\test_linear.py -> build\\lib.win-amd64-cpython-39\\thinc\\tests\\linear\n",
      "    copying thinc\\tests\\linear\\test_sparse_array.py -> build\\lib.win-amd64-cpython-39\\thinc\\tests\\linear\n",
      "    copying thinc\\tests\\linear\\__init__.py -> build\\lib.win-amd64-cpython-39\\thinc\\tests\\linear\n",
      "    creating build\\lib.win-amd64-cpython-39\\thinc\\linear\n",
      "    copying thinc\\linear\\__init__.py -> build\\lib.win-amd64-cpython-39\\thinc\\linear\n",
      "    creating build\\lib.win-amd64-cpython-39\\thinc\\neural\n",
      "    copying thinc\\neural\\mem.py -> build\\lib.win-amd64-cpython-39\\thinc\\neural\n",
      "    copying thinc\\neural\\pooling.py -> build\\lib.win-amd64-cpython-39\\thinc\\neural\n",
      "    copying thinc\\neural\\train.py -> build\\lib.win-amd64-cpython-39\\thinc\\neural\n",
      "    copying thinc\\neural\\util.py -> build\\lib.win-amd64-cpython-39\\thinc\\neural\n",
      "    copying thinc\\neural\\vec2vec.py -> build\\lib.win-amd64-cpython-39\\thinc\\neural\n",
      "    copying thinc\\neural\\vecs2vec.py -> build\\lib.win-amd64-cpython-39\\thinc\\neural\n",
      "    copying thinc\\neural\\vecs2vecs.py -> build\\lib.win-amd64-cpython-39\\thinc\\neural\n",
      "    copying thinc\\neural\\_lsuv.py -> build\\lib.win-amd64-cpython-39\\thinc\\neural\n",
      "    copying thinc\\neural\\__init__.py -> build\\lib.win-amd64-cpython-39\\thinc\\neural\n",
      "    creating build\\lib.win-amd64-cpython-39\\thinc\\extra\n",
      "    copying thinc\\extra\\datasets.py -> build\\lib.win-amd64-cpython-39\\thinc\\extra\n",
      "    copying thinc\\extra\\hpbff.py -> build\\lib.win-amd64-cpython-39\\thinc\\extra\n",
      "    copying thinc\\extra\\load_nlp.py -> build\\lib.win-amd64-cpython-39\\thinc\\extra\n",
      "    copying thinc\\extra\\visualizer.py -> build\\lib.win-amd64-cpython-39\\thinc\\extra\n",
      "    copying thinc\\extra\\wrappers.py -> build\\lib.win-amd64-cpython-39\\thinc\\extra\n",
      "    copying thinc\\extra\\__init__.py -> build\\lib.win-amd64-cpython-39\\thinc\\extra\n",
      "    creating build\\lib.win-amd64-cpython-39\\thinc\\neural\\_classes\n",
      "    copying thinc\\neural\\_classes\\affine.py -> build\\lib.win-amd64-cpython-39\\thinc\\neural\\_classes\n",
      "    copying thinc\\neural\\_classes\\attention.py -> build\\lib.win-amd64-cpython-39\\thinc\\neural\\_classes\n",
      "    copying thinc\\neural\\_classes\\batchnorm.py -> build\\lib.win-amd64-cpython-39\\thinc\\neural\\_classes\n",
      "    copying thinc\\neural\\_classes\\convolution.py -> build\\lib.win-amd64-cpython-39\\thinc\\neural\\_classes\n",
      "    copying thinc\\neural\\_classes\\difference.py -> build\\lib.win-amd64-cpython-39\\thinc\\neural\\_classes\n",
      "    copying thinc\\neural\\_classes\\elu.py -> build\\lib.win-amd64-cpython-39\\thinc\\neural\\_classes\n",
      "    copying thinc\\neural\\_classes\\embed.py -> build\\lib.win-amd64-cpython-39\\thinc\\neural\\_classes\n",
      "    copying thinc\\neural\\_classes\\encoder_decoder.py -> build\\lib.win-amd64-cpython-39\\thinc\\neural\\_classes\n",
      "    copying thinc\\neural\\_classes\\feature_extracter.py -> build\\lib.win-amd64-cpython-39\\thinc\\neural\\_classes\n",
      "    copying thinc\\neural\\_classes\\feed_forward.py -> build\\lib.win-amd64-cpython-39\\thinc\\neural\\_classes\n",
      "    copying thinc\\neural\\_classes\\function_layer.py -> build\\lib.win-amd64-cpython-39\\thinc\\neural\\_classes\n",
      "    copying thinc\\neural\\_classes\\hash_embed.py -> build\\lib.win-amd64-cpython-39\\thinc\\neural\\_classes\n",
      "    copying thinc\\neural\\_classes\\layernorm.py -> build\\lib.win-amd64-cpython-39\\thinc\\neural\\_classes\n",
      "    copying thinc\\neural\\_classes\\maxout.py -> build\\lib.win-amd64-cpython-39\\thinc\\neural\\_classes\n",
      "    copying thinc\\neural\\_classes\\model.py -> build\\lib.win-amd64-cpython-39\\thinc\\neural\\_classes\n",
      "    copying thinc\\neural\\_classes\\multiheaded_attention.py -> build\\lib.win-amd64-cpython-39\\thinc\\neural\\_classes\n",
      "    copying thinc\\neural\\_classes\\relu.py -> build\\lib.win-amd64-cpython-39\\thinc\\neural\\_classes\n",
      "    copying thinc\\neural\\_classes\\resnet.py -> build\\lib.win-amd64-cpython-39\\thinc\\neural\\_classes\n",
      "    copying thinc\\neural\\_classes\\rnn.py -> build\\lib.win-amd64-cpython-39\\thinc\\neural\\_classes\n",
      "    copying thinc\\neural\\_classes\\selu.py -> build\\lib.win-amd64-cpython-39\\thinc\\neural\\_classes\n",
      "    copying thinc\\neural\\_classes\\softmax.py -> build\\lib.win-amd64-cpython-39\\thinc\\neural\\_classes\n",
      "    copying thinc\\neural\\_classes\\static_vectors.py -> build\\lib.win-amd64-cpython-39\\thinc\\neural\\_classes\n",
      "    copying thinc\\neural\\_classes\\__init__.py -> build\\lib.win-amd64-cpython-39\\thinc\\neural\\_classes\n",
      "    creating build\\lib.win-amd64-cpython-39\\thinc\\extra\\_vendorized\n",
      "    copying thinc\\extra\\_vendorized\\keras_datasets.py -> build\\lib.win-amd64-cpython-39\\thinc\\extra\\_vendorized\n",
      "    copying thinc\\extra\\_vendorized\\keras_data_utils.py -> build\\lib.win-amd64-cpython-39\\thinc\\extra\\_vendorized\n",
      "    copying thinc\\extra\\_vendorized\\keras_generic_utils.py -> build\\lib.win-amd64-cpython-39\\thinc\\extra\\_vendorized\n",
      "    copying thinc\\extra\\_vendorized\\__init__.py -> build\\lib.win-amd64-cpython-39\\thinc\\extra\\_vendorized\n",
      "    creating build\\lib.win-amd64-cpython-39\\thinc\\extra\\wrapt\n",
      "    copying thinc\\extra\\wrapt\\decorators.py -> build\\lib.win-amd64-cpython-39\\thinc\\extra\\wrapt\n",
      "    copying thinc\\extra\\wrapt\\importer.py -> build\\lib.win-amd64-cpython-39\\thinc\\extra\\wrapt\n",
      "    copying thinc\\extra\\wrapt\\wrappers.py -> build\\lib.win-amd64-cpython-39\\thinc\\extra\\wrapt\n",
      "    copying thinc\\extra\\wrapt\\__init__.py -> build\\lib.win-amd64-cpython-39\\thinc\\extra\\wrapt\n",
      "    copying thinc\\linalg.pyx -> build\\lib.win-amd64-cpython-39\\thinc\n",
      "    copying thinc\\structs.pyx -> build\\lib.win-amd64-cpython-39\\thinc\n",
      "    copying thinc\\typedefs.pyx -> build\\lib.win-amd64-cpython-39\\thinc\n",
      "    copying thinc\\cpu.pxd -> build\\lib.win-amd64-cpython-39\\thinc\n",
      "    copying thinc\\linalg.pxd -> build\\lib.win-amd64-cpython-39\\thinc\n",
      "    copying thinc\\structs.pxd -> build\\lib.win-amd64-cpython-39\\thinc\n",
      "    copying thinc\\typedefs.pxd -> build\\lib.win-amd64-cpython-39\\thinc\n",
      "    copying thinc\\__init__.pxd -> build\\lib.win-amd64-cpython-39\\thinc\n",
      "    copying thinc\\compile_time_constants.pxi -> build\\lib.win-amd64-cpython-39\\thinc\n",
      "    copying thinc\\linalg.cpp -> build\\lib.win-amd64-cpython-39\\thinc\n",
      "    copying thinc\\structs.cpp -> build\\lib.win-amd64-cpython-39\\thinc\n",
      "    copying thinc\\typedefs.cpp -> build\\lib.win-amd64-cpython-39\\thinc\n",
      "    copying thinc\\linear\\avgtron.pyx -> build\\lib.win-amd64-cpython-39\\thinc\\linear\n",
      "    copying thinc\\linear\\features.pyx -> build\\lib.win-amd64-cpython-39\\thinc\\linear\n",
      "    copying thinc\\linear\\linear.pyx -> build\\lib.win-amd64-cpython-39\\thinc\\linear\n",
      "    copying thinc\\linear\\serialize.pyx -> build\\lib.win-amd64-cpython-39\\thinc\\linear\n",
      "    copying thinc\\linear\\sparse.pyx -> build\\lib.win-amd64-cpython-39\\thinc\\linear\n",
      "    copying thinc\\linear\\avgtron.pxd -> build\\lib.win-amd64-cpython-39\\thinc\\linear\n",
      "    copying thinc\\linear\\features.pxd -> build\\lib.win-amd64-cpython-39\\thinc\\linear\n",
      "    copying thinc\\linear\\serialize.pxd -> build\\lib.win-amd64-cpython-39\\thinc\\linear\n",
      "    copying thinc\\linear\\sparse.pxd -> build\\lib.win-amd64-cpython-39\\thinc\\linear\n",
      "    copying thinc\\linear\\__init__.pxd -> build\\lib.win-amd64-cpython-39\\thinc\\linear\n",
      "    copying thinc\\linear\\avgtron.cpp -> build\\lib.win-amd64-cpython-39\\thinc\\linear\n",
      "    copying thinc\\linear\\features.cpp -> build\\lib.win-amd64-cpython-39\\thinc\\linear\n",
      "    copying thinc\\linear\\linear.cpp -> build\\lib.win-amd64-cpython-39\\thinc\\linear\n",
      "    copying thinc\\linear\\serialize.cpp -> build\\lib.win-amd64-cpython-39\\thinc\\linear\n",
      "    copying thinc\\linear\\sparse.cpp -> build\\lib.win-amd64-cpython-39\\thinc\\linear\n",
      "    copying thinc\\neural\\ops.pyx -> build\\lib.win-amd64-cpython-39\\thinc\\neural\n",
      "    copying thinc\\neural\\optimizers.pyx -> build\\lib.win-amd64-cpython-39\\thinc\\neural\n",
      "    copying thinc\\neural\\_aligned_alloc.pyx -> build\\lib.win-amd64-cpython-39\\thinc\\neural\n",
      "    copying thinc\\neural\\cpu.pxd -> build\\lib.win-amd64-cpython-39\\thinc\\neural\n",
      "    copying thinc\\neural\\ops.pxd -> build\\lib.win-amd64-cpython-39\\thinc\\neural\n",
      "    copying thinc\\neural\\__init__.pxd -> build\\lib.win-amd64-cpython-39\\thinc\\neural\n",
      "    copying thinc\\neural\\ops.cpp -> build\\lib.win-amd64-cpython-39\\thinc\\neural\n",
      "    copying thinc\\neural\\optimizers.cpp -> build\\lib.win-amd64-cpython-39\\thinc\\neural\n",
      "    copying thinc\\neural\\_aligned_alloc.cpp -> build\\lib.win-amd64-cpython-39\\thinc\\neural\n",
      "    copying thinc\\extra\\cache.pyx -> build\\lib.win-amd64-cpython-39\\thinc\\extra\n",
      "    copying thinc\\extra\\eg.pyx -> build\\lib.win-amd64-cpython-39\\thinc\\extra\n",
      "    copying thinc\\extra\\mb.pyx -> build\\lib.win-amd64-cpython-39\\thinc\\extra\n",
      "    copying thinc\\extra\\search.pyx -> build\\lib.win-amd64-cpython-39\\thinc\\extra\n",
      "    copying thinc\\extra\\cache.pxd -> build\\lib.win-amd64-cpython-39\\thinc\\extra\n",
      "    copying thinc\\extra\\eg.pxd -> build\\lib.win-amd64-cpython-39\\thinc\\extra\n",
      "    copying thinc\\extra\\mb.pxd -> build\\lib.win-amd64-cpython-39\\thinc\\extra\n",
      "    copying thinc\\extra\\search.pxd -> build\\lib.win-amd64-cpython-39\\thinc\\extra\n",
      "    copying thinc\\extra\\__init__.pxd -> build\\lib.win-amd64-cpython-39\\thinc\\extra\n",
      "    copying thinc\\extra\\cache.cpp -> build\\lib.win-amd64-cpython-39\\thinc\\extra\n",
      "    copying thinc\\extra\\eg.cpp -> build\\lib.win-amd64-cpython-39\\thinc\\extra\n",
      "    copying thinc\\extra\\mb.cpp -> build\\lib.win-amd64-cpython-39\\thinc\\extra\n",
      "    copying thinc\\extra\\search.cpp -> build\\lib.win-amd64-cpython-39\\thinc\\extra\n",
      "    running build_ext\n",
      "    error: Microsoft Visual C++ 14.0 or greater is required. Get it with \"Microsoft C++ Build Tools\": https://visualstudio.microsoft.com/visual-cpp-build-tools/\n",
      "    [end of output]\n",
      "  \n",
      "    note: This error originates from a subprocess, and is likely not a problem with pip.\n",
      "    ERROR: Failed building wheel for thinc\n",
      "    Running setup.py clean for thinc\n",
      "    Building wheel for blis (setup.py): started\n",
      "    Building wheel for blis (setup.py): finished with status 'error'\n",
      "    error: subprocess-exited-with-error\n",
      "  \n",
      "    python setup.py bdist_wheel did not run successfully.\n",
      "    exit code: 1\n",
      "  \n",
      "    [31 lines of output]\n",
      "    BLIS_COMPILER? None\n",
      "    C:\\Users\\Keziah\\anaconda3\\lib\\site-packages\\setuptools\\__init__.py:80: _DeprecatedInstaller: setuptools.installer and fetch_build_eggs are deprecated.\n",
      "    !!\n",
      "  \n",
      "            ********************************************************************************\n",
      "            Requirements should be satisfied by a PEP 517 installer.\n",
      "            If you are using pip, you can try `pip install --use-pep517`.\n",
      "            ********************************************************************************\n",
      "  \n",
      "    !!\n",
      "      dist.fetch_build_eggs(dist.setup_requires)\n",
      "    running bdist_wheel\n",
      "    running build\n",
      "    running build_py\n",
      "    creating build\n",
      "    creating build\\lib.win-amd64-cpython-39\n",
      "    creating build\\lib.win-amd64-cpython-39\\blis\n",
      "    copying blis\\about.py -> build\\lib.win-amd64-cpython-39\\blis\n",
      "    copying blis\\benchmark.py -> build\\lib.win-amd64-cpython-39\\blis\n",
      "    copying blis\\__init__.py -> build\\lib.win-amd64-cpython-39\\blis\n",
      "    creating build\\lib.win-amd64-cpython-39\\blis\\tests\n",
      "    copying blis\\tests\\common.py -> build\\lib.win-amd64-cpython-39\\blis\\tests\n",
      "    copying blis\\tests\\test_dotv.py -> build\\lib.win-amd64-cpython-39\\blis\\tests\n",
      "    copying blis\\tests\\test_gemm.py -> build\\lib.win-amd64-cpython-39\\blis\\tests\n",
      "    copying blis\\tests\\__init__.py -> build\\lib.win-amd64-cpython-39\\blis\\tests\n",
      "    copying blis\\cy.pyx -> build\\lib.win-amd64-cpython-39\\blis\n",
      "    copying blis\\py.pyx -> build\\lib.win-amd64-cpython-39\\blis\n",
      "    copying blis\\cy.pxd -> build\\lib.win-amd64-cpython-39\\blis\n",
      "    copying blis\\__init__.pxd -> build\\lib.win-amd64-cpython-39\\blis\n",
      "    running build_ext\n",
      "    error: Microsoft Visual C++ 14.0 or greater is required. Get it with \"Microsoft C++ Build Tools\": https://visualstudio.microsoft.com/visual-cpp-build-tools/\n",
      "    [end of output]\n",
      "  \n",
      "    note: This error originates from a subprocess, and is likely not a problem with pip.\n",
      "    ERROR: Failed building wheel for blis\n",
      "    Running setup.py clean for blis\n",
      "  Failed to build preshed thinc blis\n",
      "  ERROR: Could not build wheels for preshed, thinc, blis, which is required to install pyproject.toml-based projects\n",
      "  [end of output]\n",
      "  \n",
      "  note: This error originates from a subprocess, and is likely not a problem with pip.\n",
      "error: subprocess-exited-with-error\n",
      "\n",
      "pip subprocess to install build dependencies did not run successfully.\n",
      "exit code: 1\n",
      "\n",
      "See above for output.\n",
      "\n",
      "note: This error originates from a subprocess, and is likely not a problem with pip.\n"
     ]
    }
   ],
   "source": [
    "!pip install --upgrade chatterbot\n"
   ]
  },
  {
   "cell_type": "code",
   "execution_count": null,
   "id": "e767d4f7",
   "metadata": {},
   "outputs": [],
   "source": []
  }
 ],
 "metadata": {
  "kernelspec": {
   "display_name": "Python 3 (ipykernel)",
   "language": "python",
   "name": "python3"
  },
  "language_info": {
   "codemirror_mode": {
    "name": "ipython",
    "version": 3
   },
   "file_extension": ".py",
   "mimetype": "text/x-python",
   "name": "python",
   "nbconvert_exporter": "python",
   "pygments_lexer": "ipython3",
   "version": "3.9.18"
  }
 },
 "nbformat": 4,
 "nbformat_minor": 5
}
